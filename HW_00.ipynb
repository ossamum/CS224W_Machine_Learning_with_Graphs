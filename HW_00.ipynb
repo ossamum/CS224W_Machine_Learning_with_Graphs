{
 "cells": [
  {
   "cell_type": "code",
   "execution_count": 245,
   "metadata": {},
   "outputs": [],
   "source": [
    "import snap\n",
    "import networkx as nx\n",
    "import numpy as np\n",
    "import pandas as pd\n",
    "import scipy\n",
    "import matplotlib.pyplot as plt\n",
    "%matplotlib inline"
   ]
  },
  {
   "cell_type": "code",
   "execution_count": 43,
   "metadata": {},
   "outputs": [],
   "source": [
    "g_nx = nx.read_edgelist('data/Wiki-Vote.txt', create_using=nx.DiGraph())\n",
    "g_sn = snap.LoadEdgeList(snap.PNGraph, 'data/Wiki-Vote.txt')"
   ]
  },
  {
   "cell_type": "markdown",
   "metadata": {},
   "source": [
    "# Analyzing the Wikipedia voters network\n",
    "### 1) The number of edges and nodes in the network"
   ]
  },
  {
   "cell_type": "code",
   "execution_count": 45,
   "metadata": {},
   "outputs": [
    {
     "name": "stdout",
     "output_type": "stream",
     "text": [
      "networkx\n",
      "# edges: 103689\n",
      "# nodes: 7115\n",
      "snap\n",
      "# edges: 103689\n",
      "# nodes: 7115\n"
     ]
    }
   ],
   "source": [
    "print('networkx')\n",
    "print(f'# edges: {g_nx.number_of_edges()}')\n",
    "print(f'# nodes: {g_nx.number_of_nodes()}')\n",
    "\n",
    "print('snap')\n",
    "print(f'# edges: {g_sn.GetEdges()}')\n",
    "print(f'# nodes: {g_sn.GetNodes()}')"
   ]
  },
  {
   "cell_type": "markdown",
   "metadata": {},
   "source": [
    "### 2) The number of nodes with a self-edge (self-loop)"
   ]
  },
  {
   "cell_type": "code",
   "execution_count": 66,
   "metadata": {},
   "outputs": [
    {
     "name": "stdout",
     "output_type": "stream",
     "text": [
      "networkx\n",
      "# self-loops: 0\n",
      "snap\n",
      "# nodes: 0\n"
     ]
    }
   ],
   "source": [
    "print('networkx')\n",
    "print(f'# self-loops: {g_nx.number_of_selfloops()}')\n",
    "\n",
    "print('snap')\n",
    "print(f'# self-loops: {snap.CntSelfEdges(g_sn)}')"
   ]
  },
  {
   "cell_type": "markdown",
   "metadata": {},
   "source": [
    "### 3) The number of directed edges in the network"
   ]
  },
  {
   "cell_type": "code",
   "execution_count": 115,
   "metadata": {},
   "outputs": [
    {
     "name": "stdout",
     "output_type": "stream",
     "text": [
      "snap\n",
      "# self-loops: 103689\n"
     ]
    }
   ],
   "source": [
    "print('snap')\n",
    "print(f'# self-loops: {snap.CntUniqDirEdges(g_sn)}')"
   ]
  },
  {
   "cell_type": "markdown",
   "metadata": {},
   "source": [
    "### 4) The number of undirected edges in the network"
   ]
  },
  {
   "cell_type": "code",
   "execution_count": 114,
   "metadata": {},
   "outputs": [
    {
     "name": "stdout",
     "output_type": "stream",
     "text": [
      "snap\n",
      "# self-loops: 100762\n"
     ]
    }
   ],
   "source": [
    "print('snap')\n",
    "print(f'# self-loops: {snap.CntUniqUndirEdges(g_sn)}')"
   ]
  },
  {
   "cell_type": "markdown",
   "metadata": {},
   "source": [
    "### 5) The number of reciprocated edges in the network"
   ]
  },
  {
   "cell_type": "code",
   "execution_count": null,
   "metadata": {},
   "outputs": [],
   "source": [
    "2927"
   ]
  },
  {
   "cell_type": "code",
   "execution_count": 214,
   "metadata": {},
   "outputs": [],
   "source": [
    "Nodes = snap.TIntV()\n",
    "for nodeId in range(10):\n",
    "    Nodes.Add(nodeId)"
   ]
  },
  {
   "cell_type": "code",
   "execution_count": 215,
   "metadata": {},
   "outputs": [
    {
     "ename": "RuntimeError",
     "evalue": "Execution stopped: (0<=ValN)&&(ValN<Vals) [Reason:'Index:-1 Vals:3 MxVals:16 Type:TVec<class THashKeyDat<class TInt,class TNGraph::TNode>,int>'], file S:\\glib-core\\ds.h, line 487",
     "output_type": "error",
     "traceback": [
      "\u001b[1;31m---------------------------------------------------------------------------\u001b[0m",
      "\u001b[1;31mRuntimeError\u001b[0m                              Traceback (most recent call last)",
      "\u001b[1;32m<ipython-input-215-4fd84c80d66c>\u001b[0m in \u001b[0;36m<module>\u001b[1;34m\u001b[0m\n\u001b[1;32m----> 1\u001b[1;33m \u001b[0msnap\u001b[0m\u001b[1;33m.\u001b[0m\u001b[0mGetEdgesInOut\u001b[0m\u001b[1;33m(\u001b[0m\u001b[0mg_test_s\u001b[0m\u001b[1;33m,\u001b[0m \u001b[0mNodes\u001b[0m\u001b[1;33m)\u001b[0m\u001b[1;33m\u001b[0m\u001b[1;33m\u001b[0m\u001b[0m\n\u001b[0m",
      "\u001b[1;32m~\\Anaconda3\\lib\\site-packages\\snap.py\u001b[0m in \u001b[0;36mGetEdgesInOut\u001b[1;34m(tspec, *args)\u001b[0m\n\u001b[0;32m 245000\u001b[0m     \u001b[1;32mif\u001b[0m \u001b[0mtype\u001b[0m\u001b[1;33m(\u001b[0m\u001b[0mtspec\u001b[0m\u001b[1;33m)\u001b[0m \u001b[1;33m==\u001b[0m \u001b[0mPUndirNet\u001b[0m\u001b[1;33m:\u001b[0m \u001b[1;32mreturn\u001b[0m \u001b[0mGetEdgesInOut_PUndirNet\u001b[0m\u001b[1;33m(\u001b[0m\u001b[0mtspec\u001b[0m\u001b[1;33m,\u001b[0m \u001b[1;33m*\u001b[0m\u001b[0margs\u001b[0m\u001b[1;33m)\u001b[0m\u001b[1;33m\u001b[0m\u001b[1;33m\u001b[0m\u001b[0m\n\u001b[0;32m 245001\u001b[0m     \u001b[1;32mif\u001b[0m \u001b[0mtype\u001b[0m\u001b[1;33m(\u001b[0m\u001b[0mtspec\u001b[0m\u001b[1;33m)\u001b[0m \u001b[1;33m==\u001b[0m \u001b[0mPDirNet\u001b[0m\u001b[1;33m:\u001b[0m \u001b[1;32mreturn\u001b[0m \u001b[0mGetEdgesInOut_PDirNet\u001b[0m\u001b[1;33m(\u001b[0m\u001b[0mtspec\u001b[0m\u001b[1;33m,\u001b[0m \u001b[1;33m*\u001b[0m\u001b[0margs\u001b[0m\u001b[1;33m)\u001b[0m\u001b[1;33m\u001b[0m\u001b[1;33m\u001b[0m\u001b[0m\n\u001b[1;32m>245002\u001b[1;33m     \u001b[1;32mif\u001b[0m \u001b[0mtype\u001b[0m\u001b[1;33m(\u001b[0m\u001b[0mtspec\u001b[0m\u001b[1;33m)\u001b[0m \u001b[1;33m==\u001b[0m \u001b[0mPNGraph\u001b[0m \u001b[1;33m:\u001b[0m \u001b[1;32mreturn\u001b[0m \u001b[0mGetEdgesInOut_PNGraph\u001b[0m\u001b[1;33m(\u001b[0m\u001b[0mtspec\u001b[0m\u001b[1;33m,\u001b[0m \u001b[1;33m*\u001b[0m\u001b[0margs\u001b[0m\u001b[1;33m)\u001b[0m\u001b[1;33m\u001b[0m\u001b[1;33m\u001b[0m\u001b[0m\n\u001b[0m\u001b[0;32m 245003\u001b[0m     \u001b[1;32mif\u001b[0m \u001b[0mtype\u001b[0m\u001b[1;33m(\u001b[0m\u001b[0mtspec\u001b[0m\u001b[1;33m)\u001b[0m \u001b[1;33m==\u001b[0m \u001b[0mPNEANet\u001b[0m \u001b[1;33m:\u001b[0m \u001b[1;32mreturn\u001b[0m \u001b[0mGetEdgesInOut_PNEANet\u001b[0m\u001b[1;33m(\u001b[0m\u001b[0mtspec\u001b[0m\u001b[1;33m,\u001b[0m \u001b[1;33m*\u001b[0m\u001b[0margs\u001b[0m\u001b[1;33m)\u001b[0m\u001b[1;33m\u001b[0m\u001b[1;33m\u001b[0m\u001b[0m\n\u001b[0;32m 245004\u001b[0m     \u001b[1;32mif\u001b[0m \u001b[0mtype\u001b[0m\u001b[1;33m(\u001b[0m\u001b[0mtspec\u001b[0m\u001b[1;33m)\u001b[0m \u001b[1;33m==\u001b[0m \u001b[0mPNGraphMP\u001b[0m\u001b[1;33m:\u001b[0m \u001b[1;32mreturn\u001b[0m \u001b[0mGetEdgesInOut_PNGraphMP\u001b[0m\u001b[1;33m(\u001b[0m\u001b[0mtspec\u001b[0m\u001b[1;33m,\u001b[0m \u001b[1;33m*\u001b[0m\u001b[0margs\u001b[0m\u001b[1;33m)\u001b[0m\u001b[1;33m\u001b[0m\u001b[1;33m\u001b[0m\u001b[0m\n",
      "\u001b[1;32m~\\Anaconda3\\lib\\site-packages\\snap.py\u001b[0m in \u001b[0;36mGetEdgesInOut_PNGraph\u001b[1;34m(Graph, NIdV)\u001b[0m\n\u001b[0;32m 233481\u001b[0m \u001b[1;33m\u001b[0m\u001b[0m\n\u001b[0;32m 233482\u001b[0m     \"\"\"\n\u001b[1;32m>233483\u001b[1;33m     \u001b[1;32mreturn\u001b[0m \u001b[0m_snap\u001b[0m\u001b[1;33m.\u001b[0m\u001b[0mGetEdgesInOut_PNGraph\u001b[0m\u001b[1;33m(\u001b[0m\u001b[0mGraph\u001b[0m\u001b[1;33m,\u001b[0m \u001b[0mNIdV\u001b[0m\u001b[1;33m)\u001b[0m\u001b[1;33m\u001b[0m\u001b[1;33m\u001b[0m\u001b[0m\n\u001b[0m\u001b[0;32m 233484\u001b[0m \u001b[1;33m\u001b[0m\u001b[0m\n\u001b[0;32m 233485\u001b[0m \u001b[1;32mdef\u001b[0m \u001b[0mGetAnf_PNGraph\u001b[0m\u001b[1;33m(\u001b[0m\u001b[1;33m*\u001b[0m\u001b[0margs\u001b[0m\u001b[1;33m)\u001b[0m \u001b[1;33m->\u001b[0m \u001b[1;34m\"void\"\u001b[0m\u001b[1;33m:\u001b[0m\u001b[1;33m\u001b[0m\u001b[1;33m\u001b[0m\u001b[0m\n",
      "\u001b[1;31mRuntimeError\u001b[0m: Execution stopped: (0<=ValN)&&(ValN<Vals) [Reason:'Index:-1 Vals:3 MxVals:16 Type:TVec<class THashKeyDat<class TInt,class TNGraph::TNode>,int>'], file S:\\glib-core\\ds.h, line 487"
     ]
    }
   ],
   "source": [
    "snap.GetEdgesInOut(g_test_s, Nodes)"
   ]
  },
  {
   "cell_type": "markdown",
   "metadata": {},
   "source": [
    "### 6) The number of nodes of zero out-degree"
   ]
  },
  {
   "cell_type": "code",
   "execution_count": 216,
   "metadata": {},
   "outputs": [
    {
     "name": "stdout",
     "output_type": "stream",
     "text": [
      "snap\n",
      "# nodes of zero out-degree: 1005\n"
     ]
    }
   ],
   "source": [
    "print('snap')\n",
    "print(f'# nodes of zero out-degree: {snap.CntOutDegNodes(g_sn, 0)}')"
   ]
  },
  {
   "cell_type": "markdown",
   "metadata": {},
   "source": [
    "### 7) The number of nodes of zero in-degree"
   ]
  },
  {
   "cell_type": "code",
   "execution_count": 217,
   "metadata": {},
   "outputs": [
    {
     "name": "stdout",
     "output_type": "stream",
     "text": [
      "snap\n",
      "# nodes of zero in-degree: 4734\n"
     ]
    }
   ],
   "source": [
    "print('snap')\n",
    "print(f'# nodes of zero in-degree: {snap.CntInDegNodes(g_sn, 0)}')"
   ]
  },
  {
   "cell_type": "markdown",
   "metadata": {},
   "source": [
    "### 8) The number of nodes with more than 10 outgoing edges"
   ]
  },
  {
   "cell_type": "code",
   "execution_count": 242,
   "metadata": {},
   "outputs": [
    {
     "name": "stdout",
     "output_type": "stream",
     "text": [
      "snap\n",
      "# nodes with more than 10 outgoing edges: 1612\n"
     ]
    }
   ],
   "source": [
    "print('snap')\n",
    "print(f'# nodes with more than 10 outgoing edges: {g_sn.GetNodes() - sum([snap.CntOutDegNodes(g_sn, i) for i in range(11)])}')"
   ]
  },
  {
   "cell_type": "markdown",
   "metadata": {},
   "source": [
    "### 9) The number of nodes with fewer than 10 incoming edges"
   ]
  },
  {
   "cell_type": "code",
   "execution_count": 243,
   "metadata": {},
   "outputs": [
    {
     "name": "stdout",
     "output_type": "stream",
     "text": [
      "snap\n",
      "# nodes with fewer than 10 incoming edges: 5165\n"
     ]
    }
   ],
   "source": [
    "print('snap')\n",
    "print(f'# nodes with fewer than 10 incoming edges: {sum([snap.CntInDegNodes(g_sn, i) for i in range(10)])}')"
   ]
  },
  {
   "cell_type": "code",
   "execution_count": 65,
   "metadata": {},
   "outputs": [
    {
     "data": {
      "image/png": "[encoded data removed]",
      "text/plain": [
       "<Figure size 432x288 with 1 Axes>"
      ]
     },
     "metadata": {},
     "output_type": "display_data"
    }
   ],
   "source": [
    "g_test = nx.DiGraph()\n",
    "g_test.add_node(1)\n",
    "g_test.add_node(2)\n",
    "g_test.add_node(3)\n",
    "g_test.add_edge(1, 2)\n",
    "g_test.add_edge(2, 1)\n",
    "g_test.add_edge(1, 3)\n",
    "g_test.add_edge(1, 1)\n",
    "\n",
    "nx.draw(g_test, with_labels=True)"
   ]
  },
  {
   "cell_type": "code",
   "execution_count": 102,
   "metadata": {},
   "outputs": [],
   "source": [
    "g_test_s = snap.TNGraph.New()"
   ]
  },
  {
   "cell_type": "code",
   "execution_count": 103,
   "metadata": {},
   "outputs": [],
   "source": [
    "g_test_s.AddNode(1)\n",
    "g_test_s.AddNode(2)\n",
    "g_test_s.AddNode(3)\n",
    "g_test_s.AddEdge(1, 2)\n",
    "g_test_s.AddEdge(2, 1)\n",
    "g_test_s.AddEdge(1, 3)\n",
    "g_test_s.AddEdge(1, 1)\n",
    "\n",
    "\n",
    "NIdName = snap.TIntStrH()\n",
    "NIdName[1] = \"1\"\n",
    "NIdName[2] = \"2\"\n",
    "NIdName[3] = \"3\""
   ]
  },
  {
   "cell_type": "code",
   "execution_count": 104,
   "metadata": {},
   "outputs": [],
   "source": [
    "snap.DrawGViz(g_test_s, snap.gvlDot, \"G1.png\", \"G1\", NIdName)"
   ]
  },
  {
   "cell_type": "code",
   "execution_count": 108,
   "metadata": {},
   "outputs": [
    {
     "data": {
      "text/plain": [
       "<matplotlib.image.AxesImage at 0x18041618eb8>"
      ]
     },
     "execution_count": 108,
     "metadata": {},
     "output_type": "execute_result"
    },
    {
     "data": {
      "image/png": "[encoded data removed]",
      "text/plain": [
       "<Figure size 432x288 with 1 Axes>"
      ]
     },
     "metadata": {
      "needs_background": "light"
     },
     "output_type": "display_data"
    }
   ],
   "source": [
    "img = plt.imread('G1.png')\n",
    "plt.imshow(img)"
   ]
  },
  {
   "cell_type": "markdown",
   "metadata": {},
   "source": [
    "# Further Analyzing the Wikipedia voters network"
   ]
  },
  {
   "cell_type": "code",
   "execution_count": 258,
   "metadata": {},
   "outputs": [],
   "source": [
    "df = nx.to_numpy_matrix(g_nx)"
   ]
  },
  {
   "cell_type": "code",
   "execution_count": 270,
   "metadata": {},
   "outputs": [
    {
     "data": {
      "image/png": "[encoded data removed]",
      "text/plain": [
       "<Figure size 432x288 with 1 Axes>"
      ]
     },
     "metadata": {},
     "output_type": "display_data"
    }
   ],
   "source": [
    "nx.draw(g_nx.subgraph(['30', '1412', '3352', '5254', '5543', '7478']), with_labels=True)"
   ]
  },
  {
   "cell_type": "code",
   "execution_count": 268,
   "metadata": {},
   "outputs": [
    {
     "data": {
      "text/plain": [
       "AtlasView({'1412': {}, '3352': {}, '5254': {}, '5543': {}, '7478': {}})"
      ]
     },
     "execution_count": 268,
     "metadata": {},
     "output_type": "execute_result"
    }
   ],
   "source": [
    "g_nx['30']"
   ]
  },
  {
   "cell_type": "markdown",
   "metadata": {},
   "source": [
    "Plot the distribution of out-degrees of nodes in the network on a log-log scale.\n",
    "Each data point is a pair (x; y) where x is a positive integer and y is the number of nodes\n",
    "in the network with out-degree equal to x. Restrict the range of x between the minimum\n",
    "and maximum out-degrees. You may filter out data points with a 0 entry. For the log-log\n",
    "scale, use base 10 for both x and y axes."
   ]
  },
  {
   "cell_type": "code",
   "execution_count": 333,
   "metadata": {},
   "outputs": [],
   "source": [
    "df = pd.DataFrame(list(g_nx.out_degree()), columns=['Outdegree', 'Count'])\n",
    "\n",
    "df['Outdegree'] = df['Outdegree'].astype(int)\n",
    "\n",
    "df = df.query('Count != 0')"
   ]
  },
  {
   "cell_type": "code",
   "execution_count": 335,
   "metadata": {},
   "outputs": [
    {
     "data": {
      "text/html": [
       "<div>\n",
       "<style scoped>\n",
       "    .dataframe tbody tr th:only-of-type {\n",
       "        vertical-align: middle;\n",
       "    }\n",
       "\n",
       "    .dataframe tbody tr th {\n",
       "        vertical-align: top;\n",
       "    }\n",
       "\n",
       "    .dataframe thead th {\n",
       "        text-align: right;\n",
       "    }\n",
       "</style>\n",
       "<table border=\"1\" class=\"dataframe\">\n",
       "  <thead>\n",
       "    <tr style=\"text-align: right;\">\n",
       "      <th></th>\n",
       "      <th>Outdegree</th>\n",
       "      <th>Count</th>\n",
       "    </tr>\n",
       "  </thead>\n",
       "  <tbody>\n",
       "    <tr>\n",
       "      <th>0</th>\n",
       "      <td>30</td>\n",
       "      <td>5</td>\n",
       "    </tr>\n",
       "    <tr>\n",
       "      <th>2</th>\n",
       "      <td>3352</td>\n",
       "      <td>273</td>\n",
       "    </tr>\n",
       "    <tr>\n",
       "      <th>3</th>\n",
       "      <td>5254</td>\n",
       "      <td>33</td>\n",
       "    </tr>\n",
       "    <tr>\n",
       "      <th>4</th>\n",
       "      <td>5543</td>\n",
       "      <td>137</td>\n",
       "    </tr>\n",
       "    <tr>\n",
       "      <th>6</th>\n",
       "      <td>3</td>\n",
       "      <td>23</td>\n",
       "    </tr>\n",
       "  </tbody>\n",
       "</table>\n",
       "</div>"
      ],
      "text/plain": [
       "   Outdegree  Count\n",
       "0         30      5\n",
       "2       3352    273\n",
       "3       5254     33\n",
       "4       5543    137\n",
       "6          3     23"
      ]
     },
     "execution_count": 335,
     "metadata": {},
     "output_type": "execute_result"
    }
   ],
   "source": [
    "df.head()"
   ]
  },
  {
   "cell_type": "code",
   "execution_count": 350,
   "metadata": {},
   "outputs": [],
   "source": [
    "df = df.sort_values('Count', ascending=False)"
   ]
  },
  {
   "cell_type": "code",
   "execution_count": 351,
   "metadata": {},
   "outputs": [],
   "source": [
    "df['Index'] = range(1, len(df) + 1)"
   ]
  },
  {
   "cell_type": "code",
   "execution_count": 366,
   "metadata": {},
   "outputs": [
    {
     "data": {
      "image/png": "[encoded data removed]",
      "text/plain": [
       "<Figure size 1152x432 with 1 Axes>"
      ]
     },
     "metadata": {
      "needs_background": "light"
     },
     "output_type": "display_data"
    }
   ],
   "source": [
    "plt.figure(figsize=(16, 6))\n",
    "plt.xlabel(\"OutDegree (log-scale)\")\n",
    "plt.ylabel(\"Count (log-scale)\")\n",
    "plt.plot(np.log10(df['Index']), np.log10(df['Count']))\n",
    "plt.show()"
   ]
  },
  {
   "cell_type": "code",
   "execution_count": 367,
   "metadata": {},
   "outputs": [
    {
     "name": "stdout",
     "output_type": "stream",
     "text": [
      "[-1.47401391  5.5475723 ]\n"
     ]
    },
    {
     "data": {
      "image/png": "[encoded data removed]",
      "text/plain": [
       "<Figure size 1152x432 with 1 Axes>"
      ]
     },
     "metadata": {
      "needs_background": "light"
     },
     "output_type": "display_data"
    }
   ],
   "source": [
    "fit = np.polyfit(np.log10(df['Index']), np.log10(df['Count']), deg = 1)\n",
    "fitted = fit[1] + fit[0]*np.log10(df['Index'])\n",
    "plt.figure(figsize=(16, 6))\n",
    "plt.xlabel(\"OutDegree (log-scale)\")\n",
    "plt.ylabel(\"Count (log-scale)\")\n",
    "plt.plot(np.log10(df['Index']), np.log10(df['Count']))\n",
    "plt.plot(np.log10(df['Index']), fitted, 'r-')\n",
    "print(fit)"
   ]
  },
  {
   "cell_type": "markdown",
   "metadata": {},
   "source": [
    "# Finding Experts on the Java Programming Language on StackOverflow"
   ]
  },
  {
   "cell_type": "code",
   "execution_count": 368,
   "metadata": {},
   "outputs": [],
   "source": [
    "g_sto_nx = nx.read_edgelist('data/stackoverflow-Java.txt', create_using=nx.DiGraph())\n",
    "g_sto_sn = snap.LoadEdgeList(snap.PNGraph, 'data/stackoverflow-Java.txt')"
   ]
  },
  {
   "cell_type": "markdown",
   "metadata": {},
   "source": [
    "### 1) The number of weakly connected components in the network"
   ]
  },
  {
   "cell_type": "code",
   "execution_count": 391,
   "metadata": {},
   "outputs": [
    {
     "name": "stdout",
     "output_type": "stream",
     "text": [
      "networkx\n",
      "# of weakly connected components: 10143\n",
      "snap\n",
      "# of weakly connected components: 10143\n"
     ]
    }
   ],
   "source": [
    "print('networkx')\n",
    "print(f'# of weakly connected components: {len([len(c) for c in sorted(nx.weakly_connected_components(g_sto_nx))])}')\n",
    "\n",
    "\n",
    "Components = snap.TCnComV()\n",
    "snap.GetWccs(g_sto_sn, Components)\n",
    "print('snap')\n",
    "print(f'# of weakly connected components: {len([CnCom.Len() for CnCom in Components])}')"
   ]
  },
  {
   "cell_type": "markdown",
   "metadata": {},
   "source": [
    "### 2) The number of edges and the number of nodes in the largest weakly connected component"
   ]
  },
  {
   "cell_type": "code",
   "execution_count": 391,
   "metadata": {},
   "outputs": [
    {
     "name": "stdout",
     "output_type": "stream",
     "text": [
      "networkx\n",
      "# of weakly connected components: 10143\n",
      "snap\n",
      "# of weakly connected components: 10143\n"
     ]
    }
   ],
   "source": [
    "print('networkx')\n",
    "print(f'# of weakly connected components: {len([len(c) for c in sorted(nx.weakly_connected_components(g_sto_nx))])}')\n",
    "\n",
    "\n",
    "Components = snap.TCnComV()\n",
    "snap.GetWccs(g_sto_sn, Components)\n",
    "print('snap')\n",
    "print(f'# of weakly connected components: {len([CnCom.Len() for CnCom in Components])}')"
   ]
  },
  {
   "cell_type": "code",
   "execution_count": null,
   "metadata": {},
   "outputs": [],
   "source": []
  },
  {
   "cell_type": "code",
   "execution_count": null,
   "metadata": {},
   "outputs": [],
   "source": []
  },
  {
   "cell_type": "code",
   "execution_count": null,
   "metadata": {},
   "outputs": [],
   "source": []
  },
  {
   "cell_type": "code",
   "execution_count": null,
   "metadata": {},
   "outputs": [],
   "source": []
  },
  {
   "cell_type": "code",
   "execution_count": null,
   "metadata": {},
   "outputs": [],
   "source": []
  },
  {
   "cell_type": "code",
   "execution_count": null,
   "metadata": {},
   "outputs": [],
   "source": []
  },
  {
   "cell_type": "code",
   "execution_count": null,
   "metadata": {},
   "outputs": [],
   "source": []
  },
  {
   "cell_type": "code",
   "execution_count": null,
   "metadata": {},
   "outputs": [],
   "source": []
  },
  {
   "cell_type": "code",
   "execution_count": null,
   "metadata": {},
   "outputs": [],
   "source": []
  },
  {
   "cell_type": "code",
   "execution_count": null,
   "metadata": {},
   "outputs": [],
   "source": []
  },
  {
   "cell_type": "code",
   "execution_count": null,
   "metadata": {},
   "outputs": [],
   "source": []
  },
  {
   "cell_type": "code",
   "execution_count": null,
   "metadata": {},
   "outputs": [],
   "source": []
  },
  {
   "cell_type": "code",
   "execution_count": null,
   "metadata": {},
   "outputs": [],
   "source": []
  }
 ],
 "metadata": {
  "kernelspec": {
   "display_name": "Python 3",
   "language": "python",
   "name": "python3"
  },
  "language_info": {
   "codemirror_mode": {
    "name": "ipython",
    "version": 3
   },
   "file_extension": ".py",
   "mimetype": "text/x-python",
   "name": "python",
   "nbconvert_exporter": "python",
   "pygments_lexer": "ipython3",
   "version": "3.7.3"
  }
 },
 "nbformat": 4,
 "nbformat_minor": 2
}
